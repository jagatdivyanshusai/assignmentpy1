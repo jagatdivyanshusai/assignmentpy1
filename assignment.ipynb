{
  "nbformat": 4,
  "nbformat_minor": 0,
  "metadata": {
    "colab": {
      "provenance": [],
      "toc_visible": true,
      "authorship_tag": "ABX9TyN06NDTLhp3L7YioIYcvK64",
      "include_colab_link": true
    },
    "kernelspec": {
      "name": "python3",
      "display_name": "Python 3"
    },
    "language_info": {
      "name": "python"
    }
  },
  "cells": [
    {
      "cell_type": "markdown",
      "metadata": {
        "id": "view-in-github",
        "colab_type": "text"
      },
      "source": [
        "<a href=\"https://colab.research.google.com/github/jagatdivyanshusai/assignmentpy1/blob/main/assignment.ipynb\" target=\"_parent\"><img src=\"https://colab.research.google.com/assets/colab-badge.svg\" alt=\"Open In Colab\"/></a>"
      ]
    },
    {
      "cell_type": "markdown",
      "source": [
        "### 1.Write a code to reverse a string"
      ],
      "metadata": {
        "id": "a0oe5BacGyO5"
      }
    },
    {
      "cell_type": "code",
      "execution_count": null,
      "metadata": {
        "colab": {
          "base_uri": "https://localhost:8080/",
          "height": 36
        },
        "id": "DL2wudygBRij",
        "outputId": "072517cb-2e37-47a6-854c-41e44bd021d4"
      },
      "outputs": [
        {
          "output_type": "execute_result",
          "data": {
            "text/plain": [
              "'noD si eman yM'"
            ],
            "application/vnd.google.colaboratory.intrinsic+json": {
              "type": "string"
            }
          },
          "metadata": {},
          "execution_count": 2
        }
      ],
      "source": [
        "#Write a code to reverse a string\n",
        "string= \"My name is Don\"\n",
        "string[::-1]\n"
      ]
    },
    {
      "cell_type": "markdown",
      "source": [
        "\n",
        " 2.Write a code to count the number of vowels in a string\n",
        "\n",
        "\n"
      ],
      "metadata": {
        "id": "DzdotZ0qGwe4"
      }
    },
    {
      "cell_type": "code",
      "source": [
        "# Write a code to count the number of vowels in a string\n",
        "string= \"Kaun Banega Crorepati\"\n",
        "string.lower()\n",
        "count=0\n",
        "for i in string:\n",
        "  if (i==\"o\" or i==\"u\" or i==\"i\" or i==\"a\" or i==\"e\"):\n",
        "    count=count+1\n",
        "else:\n",
        "  print(\"Number of vowels are:\", count)\n"
      ],
      "metadata": {
        "id": "ub4avrwPB8L9",
        "colab": {
          "base_uri": "https://localhost:8080/"
        },
        "outputId": "032a9634-e784-4250-a1de-cf09d96814cb"
      },
      "execution_count": 49,
      "outputs": [
        {
          "output_type": "stream",
          "name": "stdout",
          "text": [
            "Number of vowels are: 9\n"
          ]
        }
      ]
    },
    {
      "cell_type": "markdown",
      "source": [
        "3.Write a code to check if a given string is a palindrome or not\n"
      ],
      "metadata": {
        "id": "06TrSv4XHF37"
      }
    },
    {
      "cell_type": "code",
      "source": [
        "#Write a code to check if a given string is a palindrome or not\n",
        "str= input(\"Enter a string :\")\n",
        "a=str[::-1]\n",
        "if a in str:\n",
        "  print(\"this is palindrome\")\n",
        "else:\n",
        "    print(\"this is not palindrome\")\n"
      ],
      "metadata": {
        "colab": {
          "base_uri": "https://localhost:8080/"
        },
        "id": "vHJxk_TPBZ15",
        "outputId": "7014233c-c710-4e34-8b25-9b34ca4214dd"
      },
      "execution_count": 60,
      "outputs": [
        {
          "output_type": "stream",
          "name": "stdout",
          "text": [
            "Enter a string :good\n",
            "this is not palindrome\n"
          ]
        }
      ]
    },
    {
      "cell_type": "markdown",
      "source": [
        "4.Write a code to check if two given strings are anagrams of each other\n"
      ],
      "metadata": {
        "id": "9BoBzArhHJ2b"
      }
    },
    {
      "cell_type": "code",
      "source": [
        "#Write a code to check if two given strings are anagrams of each other\n",
        "s1=input(\"Enter 1st String:\")\n",
        "a=s1.lower()\n",
        "s2=input(\"Enter 2nd String:\")\n",
        "b=s2.lower()\n",
        "if  sorted(a)==sorted(b):\n",
        "  print(\"This is anagram\")\n",
        "else:\n",
        "    print(\"this is not an anagram\")\n",
        "\n",
        "\n"
      ],
      "metadata": {
        "colab": {
          "base_uri": "https://localhost:8080/"
        },
        "id": "y604VG8wGlww",
        "outputId": "cb03b3ed-9499-46db-97e5-b9d5f26bf1d9"
      },
      "execution_count": 78,
      "outputs": [
        {
          "output_type": "stream",
          "name": "stdout",
          "text": [
            "Enter 1st String:fufu\n",
            "Enter 2nd String:nufu\n",
            "this is not an anagram\n"
          ]
        }
      ]
    },
    {
      "cell_type": "markdown",
      "source": [
        "\t5.Write a code to find all occurrences of a given substring within another string"
      ],
      "metadata": {
        "id": "sZOpMXLXGuiE"
      }
    },
    {
      "cell_type": "code",
      "source": [
        "#Write a code to find all occurrences of a given substring within another string\n",
        "s1=input(\"Enter String:\")\n",
        "a=s1.lower()\n",
        "s2=input(\"Enter sub string to search :\")\n",
        "b=s2.lower()\n",
        "if b in a:\n",
        "\n",
        "  print(\"count of occurances is :\", a.count(b))\n"
      ],
      "metadata": {
        "colab": {
          "base_uri": "https://localhost:8080/"
        },
        "id": "aWBE4YqlHCjv",
        "outputId": "da685687-214f-44e2-a5fd-d0d109f4d80e"
      },
      "execution_count": 87,
      "outputs": [
        {
          "output_type": "stream",
          "name": "stdout",
          "text": [
            "Enter String:My name is Jagat is and is\n",
            "Enter sub string to search :Is\n",
            "count of occurances is : 3\n"
          ]
        }
      ]
    },
    {
      "cell_type": "markdown",
      "source": [
        "6.Write a code to perform basic string compression using the counts of repeated characters"
      ],
      "metadata": {
        "id": "jR0lLiFVZ71j"
      }
    },
    {
      "cell_type": "code",
      "source": [
        "#Write a code to perform basic string compression using the counts of repeated characters\n"
      ],
      "metadata": {
        "id": "hMlMPd3WaGTf"
      },
      "execution_count": null,
      "outputs": []
    }
  ]
}